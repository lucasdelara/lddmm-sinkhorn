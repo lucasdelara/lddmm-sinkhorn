{
 "cells": [
  {
   "cell_type": "markdown",
   "id": "769ef833",
   "metadata": {},
   "source": [
    "# Librairies"
   ]
  },
  {
   "cell_type": "code",
   "execution_count": null,
   "id": "529d76c4",
   "metadata": {},
   "outputs": [],
   "source": [
    "seed = 2008\n",
    "import os\n",
    "os.environ['PYTHONHASHSEED']=str(seed)\n",
    "import time\n",
    "\n",
    "import torch\n",
    "torch.manual_seed(seed)\n",
    "from torch.autograd import grad\n",
    "\n",
    "import plotly.graph_objs as go\n",
    "\n",
    "from pykeops.torch import Vi, Vj\n",
    "\n",
    "# torch type and device\n",
    "use_cuda = torch.cuda.is_available()\n",
    "torchdeviceId = torch.device(\"cuda:0\") if use_cuda else \"cpu\"\n",
    "torchdtype = torch.float32\n",
    "\n",
    "# PyKeOps counterpart\n",
    "KeOpsdeviceId = torchdeviceId.index  # id of Gpu device (in case Gpu is  used)\n",
    "KeOpsdtype = torchdtype.__str__().split(\".\")[1]  # 'float32'\n",
    "\n",
    "import numpy as np\n",
    "np.random.seed(seed)\n",
    "\n",
    "import matplotlib.pyplot as plt\n",
    "import torch.distributions as tdist\n",
    "from torch.autograd import Variable\n",
    "\n",
    "from geomloss import SamplesLoss\n",
    "from imageio import imread\n",
    "import random\n",
    "random.seed(seed)\n",
    "from random import choices"
   ]
  },
  {
   "cell_type": "code",
   "execution_count": null,
   "id": "8d99da4f",
   "metadata": {},
   "outputs": [],
   "source": [
    "dtype = torch.cuda.FloatTensor if use_cuda else torch.FloatTensor"
   ]
  },
  {
   "cell_type": "markdown",
   "id": "b1ce2220",
   "metadata": {},
   "source": [
    "# Utils"
   ]
  },
  {
   "cell_type": "markdown",
   "id": "6b25785e",
   "metadata": {},
   "source": [
    "## Data importation and visualization"
   ]
  },
  {
   "cell_type": "markdown",
   "id": "41ef9873",
   "metadata": {},
   "source": [
    "Adapted from https://www.kernel-operations.io/geomloss/_auto_examples/comparisons/plot_gradient_flows_2D.html#sphx-glr-auto-examples-comparisons-plot-gradient-flows-2d-py"
   ]
  },
  {
   "cell_type": "code",
   "execution_count": null,
   "id": "c07d6fba",
   "metadata": {},
   "outputs": [],
   "source": [
    "def load_image(fname):\n",
    "    img = imread(fname, as_gray=True)  # Grayscale\n",
    "    img = (img[::-1, :]) / 255.0\n",
    "    return 1 - img\n",
    "\n",
    "def draw_samples(fname, n, dtype=torch.FloatTensor):\n",
    "    A = load_image(fname)\n",
    "    xg, yg = np.meshgrid(np.linspace(0, 1, A.shape[0]), np.linspace(0, 1, A.shape[1]))\n",
    "\n",
    "    grid = list(zip(xg.ravel(), yg.ravel()))\n",
    "    dens = A.ravel() / A.sum()\n",
    "    dots = np.array(choices(grid, dens, k=n))\n",
    "    dots += (0.5 / A.shape[0]) * np.random.standard_normal(dots.shape)\n",
    "\n",
    "    return torch.from_numpy(dots).type(dtype)\n",
    "\n",
    "def display_samples(ax, x, color):\n",
    "    x_ = x.detach().cpu().numpy()\n",
    "    ax.scatter(x_[:, 0], x_[:, 1], 25 * 500 / len(x_), color, edgecolors=\"none\")\n",
    "    \n",
    "def plot_particles(ax, x, y, colors):\n",
    "    plt.set_cmap(\"hsv\")\n",
    "    plt.scatter(\n",
    "        [10], [10]\n",
    "    )  # shameless hack to prevent a slight change of axis...\n",
    "\n",
    "    display_samples(ax, y, [(0.55, 0.55, 0.95)])\n",
    "    cloud = display_samples(ax, x, colors)\n",
    "\n",
    "    plt.axis([0, 1, 0, 1])\n",
    "    plt.gca().set_aspect(\"equal\", adjustable=\"box\")\n",
    "    plt.xticks([], [])\n",
    "    plt.yticks([], [])\n",
    "    return cloud\n",
    "\n",
    "def plot_particles(x,y, colors,title):\n",
    "    x_ = x.detach().cpu().numpy()\n",
    "    y_ = y.detach().cpu().numpy()\n",
    "    \n",
    "    plt.figure()\n",
    "    plt.set_cmap(\"hsv\")\n",
    "    plt.scatter(y_[:, 0], y_[:, 1], 25 * 500 / len(y_), [(0.55, 0.55, 0.95)], edgecolors=\"none\")\n",
    "    plt.scatter(x_[:, 0], x_[:, 1], 25 * 500 / len(x_), colors, edgecolors=\"none\")\n",
    "    \n",
    "    plt.axis([0, 1, 0, 1])\n",
    "    plt.gca().set_aspect(\"equal\", adjustable=\"box\")\n",
    "    plt.xticks([], [])\n",
    "    plt.yticks([], [])\n",
    "    plt.gca().set_axis_off()\n",
    "    plt.subplots_adjust(top = 1, bottom = 0, right = 1, left = 0, hspace = 0, wspace = 0)\n",
    "    plt.margins(0,0)\n",
    "    plt.gca().xaxis.set_major_locator(plt.NullLocator())\n",
    "    plt.gca().yaxis.set_major_locator(plt.NullLocator())\n",
    "    plt.savefig(title, bbox_inches = 'tight',pad_inches = 0)\n",
    "    \n",
    "    plt.show()"
   ]
  },
  {
   "cell_type": "markdown",
   "id": "a6b836ec",
   "metadata": {},
   "source": [
    "## Geodesic shooting"
   ]
  },
  {
   "cell_type": "markdown",
   "id": "ae2bef91",
   "metadata": {},
   "source": [
    "Adapted from https://www.kernel-operations.io/keops/_auto_tutorials/surface_registration/plot_LDDMM_Surface.html#sphx-glr-auto-tutorials-surface-registration-plot-lddmm-surface-py"
   ]
  },
  {
   "cell_type": "markdown",
   "id": "94681b7f",
   "metadata": {},
   "source": [
    "### Kernel"
   ]
  },
  {
   "cell_type": "code",
   "execution_count": null,
   "id": "472062e7",
   "metadata": {},
   "outputs": [],
   "source": [
    "def GaussKernel(sigma):\n",
    "    x, y, b = Vi(0, 2), Vj(1, 2), Vj(2, 2)\n",
    "    gamma = 1 / (2*sigma * sigma)\n",
    "    D2 = x.sqdist(y)\n",
    "    K = (-D2 * gamma).exp()\n",
    "    return ((0.3989/sigma)*K * b).sum_reduction(axis=1)"
   ]
  },
  {
   "cell_type": "markdown",
   "id": "0798691b",
   "metadata": {},
   "source": [
    "### Dynamic"
   ]
  },
  {
   "cell_type": "code",
   "execution_count": null,
   "id": "dd7e225c",
   "metadata": {},
   "outputs": [],
   "source": [
    "def RalstonIntegrator():\n",
    "    def f(ODESystem, x0, nt, deltat=1.0):\n",
    "        x = tuple(map(lambda x: x.clone(), x0))\n",
    "        dt = deltat / nt\n",
    "        l = [x]\n",
    "        for i in range(nt):\n",
    "            xdot = ODESystem(*x)\n",
    "            xi = tuple(map(lambda x, xdot: x + (2 * dt / 3) * xdot, x, xdot))\n",
    "            xdoti = ODESystem(*xi)\n",
    "            x = tuple(\n",
    "                map(\n",
    "                    lambda x, xdot, xdoti: x + (0.25 * dt) * (xdot + 3 * xdoti),\n",
    "                    x,\n",
    "                    xdot,\n",
    "                    xdoti,\n",
    "                )\n",
    "            )\n",
    "            l.append(x)\n",
    "        return l\n",
    "\n",
    "    return f"
   ]
  },
  {
   "cell_type": "code",
   "execution_count": null,
   "id": "9ac66892",
   "metadata": {},
   "outputs": [],
   "source": [
    "def Hamiltonian(K):\n",
    "    def H(p, q):\n",
    "        return  0.5*(p * K(q, q, p)).sum()\n",
    "\n",
    "    return H\n",
    "\n",
    "\n",
    "def HamiltonianSystem(K):\n",
    "    H = Hamiltonian(K)\n",
    "\n",
    "    def HS(p, q):\n",
    "        Gp, Gq = grad(H(p, q), (p, q), create_graph=True)\n",
    "        return -Gq, Gp\n",
    "\n",
    "    return HS"
   ]
  },
  {
   "cell_type": "code",
   "execution_count": null,
   "id": "aa4939a4",
   "metadata": {},
   "outputs": [],
   "source": [
    "def Shooting(p0, q0, K, nt=10, Integrator=RalstonIntegrator()):\n",
    "    return Integrator(HamiltonianSystem(K), (p0, q0), nt)\n",
    "\n",
    "\n",
    "def Flow(x0, p0, q0, K, nt=10, Integrator=RalstonIntegrator()):\n",
    "    HS = HamiltonianSystem(K)\n",
    "\n",
    "    def FlowEq(x, p, q):\n",
    "        return (K(x, q, p),) + HS(p, q)\n",
    "\n",
    "    return Integrator(FlowEq, (x0, p0, q0), nt)#[0]"
   ]
  },
  {
   "cell_type": "markdown",
   "id": "3e0d8076",
   "metadata": {},
   "source": [
    "### Optimization problem"
   ]
  },
  {
   "cell_type": "code",
   "execution_count": null,
   "id": "a13b0a77",
   "metadata": {},
   "outputs": [],
   "source": [
    "def LDDMMloss(K, dataloss, gamma=0):\n",
    "    def loss(p0, q0):\n",
    "        p, q = Shooting(p0, q0, K)[-1]\n",
    "        return gamma * Hamiltonian(K)(p0, q0) + dataloss(q)\n",
    "\n",
    "    return loss\n",
    "\n",
    "def Optimize(loss,p0,q0,lr=0.5,max_it=20):\n",
    "    optimizer = torch.optim.LBFGS([p0], max_eval=10, max_iter=10, lr=lr)\n",
    "    history = []\n",
    "    print(\"performing optimization...\")\n",
    "    start = time.time()\n",
    "\n",
    "    def closure():\n",
    "        optimizer.zero_grad()\n",
    "        L = loss(p0, q0)\n",
    "        l = L.detach().cpu().numpy()\n",
    "        print(\"loss\", l)\n",
    "        history.append(l)\n",
    "        L.backward()\n",
    "        return L\n",
    "\n",
    "\n",
    "    for i in range(max_it):\n",
    "        print(\"it \", i, \": \", end=\"\")\n",
    "        optimizer.step(closure)\n",
    "\n",
    "    print(\"Optimization (L-BFGS) time: \", round(time.time() - start, 2), \" seconds\")\n",
    "    return history"
   ]
  },
  {
   "cell_type": "markdown",
   "id": "b12c2685",
   "metadata": {},
   "source": [
    "### Plot"
   ]
  },
  {
   "cell_type": "code",
   "execution_count": null,
   "id": "09cf9aad",
   "metadata": {},
   "outputs": [],
   "source": [
    "def ShowCase(listx,y,title):\n",
    "    x0 = listx[0]\n",
    "    tau = len(listx)-1\n",
    "    # Use colors to identify the particles\n",
    "    colors = (10 * x0[:, 0]).cos() * (10 * x0[:, 1]).cos()\n",
    "    colors = colors.detach().cpu().numpy()\n",
    "\n",
    "    plot_particles(x0, y, colors,'0_'+title)\n",
    "\n",
    "    for t in range(tau): # t+1 in (1,2,...,tau+1) \n",
    "        if (t+1)%4==0:\n",
    "            plot_particles(listx[t+1], y, colors, \"{}_\".format(t+1)+title)"
   ]
  },
  {
   "cell_type": "markdown",
   "id": "d4448349",
   "metadata": {},
   "source": [
    "## Gradient descent on the time-dependent momentum"
   ]
  },
  {
   "cell_type": "markdown",
   "id": "81927850",
   "metadata": {},
   "source": [
    "### Optimize"
   ]
  },
  {
   "cell_type": "code",
   "execution_count": null,
   "id": "92a74c1f",
   "metadata": {},
   "outputs": [],
   "source": [
    "def learn_diffeo(loss,x,y,lamb,sigma,nt,lr,max_iter,tol=1e-8,init=None):\n",
    "\n",
    "    K = GaussKernel(sigma=sigma)\n",
    "    \n",
    "    n,d = x.shape\n",
    "\n",
    "    if init==None:\n",
    "        a = torch.zeros([nt+1,n,d], dtype=torchdtype, device=torchdeviceId).float()\n",
    "    else:\n",
    "        a = init\n",
    "    p = torch.zeros([nt+1,n,d], dtype=torchdtype, device=torchdeviceId).float()\n",
    "    z = torch.zeros([nt+1,n,d], dtype=torchdtype, device=torchdeviceId).float()\n",
    "\n",
    "    history = []\n",
    "\n",
    "    z[0] = x\n",
    "\n",
    "    t0 = time.time()\n",
    "    \n",
    "    objective = loss(x,y).item()\n",
    "    back = objective+1\n",
    "    it = 0\n",
    "\n",
    "    while (it<max_iter) and (objective>tol):# and (objective<=back)\n",
    "        back = objective   \n",
    "        \"Transform the inputs\"\n",
    "        s=0\n",
    "        for t in range(nt): # t+1 in (1,2,...,tau)\n",
    "            z[t+1] = z[t] + (1/nt)*K(z[t],z[t],a[t])\n",
    "            s = s + (1/nt)*(a[t] * K(z[t], z[t], a[t])).sum()\n",
    "\n",
    "        \"Print the values\"\n",
    "        z1 = z[nt]\n",
    "        z1.requires_grad = True\n",
    "        \n",
    "        loss_value = loss(z1,y)\n",
    "        objective = loss(z1,y) + lamb*s\n",
    "        history.append(objective.item())\n",
    "        \n",
    "        print(\"Iteration: \"+str(it)+\"  Fidelity loss: \"+str(loss_value.item())+\"  Objective: \"+str(objective.item()))\n",
    "\n",
    "        \"Initialize p\"\n",
    "        [g] = torch.autograd.grad(loss_value, [z1])\n",
    "        p[nt-1] = g\n",
    "\n",
    "        \"Solve the equation on p\"\n",
    "        a_i = Vi(a[t])\n",
    "        a_j = Vj(a[t])\n",
    "        z_i = Vi(z[t])\n",
    "        z_j = Vj(z[t])\n",
    "        p_i = Vi(p[t])\n",
    "        p_j = Vj(p[t])\n",
    "\n",
    "        D2 = z_i.sqdist(z_j)\n",
    "        gamma = 1 / (2*sigma * sigma)\n",
    "        Ker = (-D2 * gamma).exp()\n",
    "        O = a_i * p_j + a_j * p_i - 2 * lamb * a_i * p_j\n",
    "\n",
    "        for t in range(nt-1,0,-1): # t-1 in (tau-2,...,1,0)\n",
    "            p[t-1] = p[t] + (1/nt)*(1/sigma**2)*((0.3989/sigma) * Ker * O * (z_i-z_j)).sum_reduction(axis=1)\n",
    "\n",
    "        \"Update the gradient descent\"\n",
    "        a = a - lr*(2*lamb*a+p)\n",
    "        it += 1\n",
    "    \n",
    "    tf = time.time()\n",
    "    print(\"Elapsed time: \"+str(tf-t0))\n",
    "    print(\"Averaged elapsed time per iteration: \"+str((tf-t0)/it))\n",
    "    \n",
    "    return a,z,history"
   ]
  },
  {
   "cell_type": "markdown",
   "id": "bb37ea21",
   "metadata": {},
   "source": [
    "### Apply and plot"
   ]
  },
  {
   "cell_type": "code",
   "execution_count": null,
   "id": "67a79c6a",
   "metadata": {},
   "outputs": [],
   "source": [
    "def apply_diffeo(x_new,y,a,z,sigma,title):\n",
    "\n",
    "    \"Initialization\"\n",
    "    m = x_new.shape[0]\n",
    "    nt,n,d = z.shape\n",
    "    Nt=nt-1\n",
    "    z_new = torch.zeros([Nt+1,m,d], dtype=torchdtype, device=torchdeviceId)\n",
    "    z_new[0] = x_new\n",
    "    K = GaussKernel(sigma)\n",
    "    \n",
    "    # Use colors to identify the particles\n",
    "    colors = (10 * x_new[:, 0]).cos() * (10 * x_new[:, 1]).cos()\n",
    "    colors = colors.detach().cpu().numpy()\n",
    "    plot_particles(z_new[0], y, colors,\"0_\"+title)\n",
    "\n",
    "    \"Iterations\"\n",
    "    for t in range(Nt): # t+1 in (1,2,...,tau+1)\n",
    "        z_new[t+1] = z_new[t] + (1/(Nt-1))*K(z_new[t],z[t],a[t])\n",
    "        \n",
    "        if (t+1)%4==0:\n",
    "            #print(\"Hi!\")\n",
    "            plot_particles(z_new[t+1], y, colors,\"{}_\".format(t+1)+title)\n",
    "\n",
    "    return z_new[Nt]"
   ]
  },
  {
   "cell_type": "markdown",
   "id": "4729a546",
   "metadata": {},
   "source": [
    "# Demo"
   ]
  },
  {
   "cell_type": "markdown",
   "id": "0aef5797",
   "metadata": {},
   "source": [
    "## Setup"
   ]
  },
  {
   "cell_type": "markdown",
   "id": "200156a7",
   "metadata": {},
   "source": [
    "### Training set"
   ]
  },
  {
   "cell_type": "code",
   "execution_count": null,
   "id": "80bdf7d6",
   "metadata": {},
   "outputs": [],
   "source": [
    "n = 1000\n",
    "x = draw_samples(\"density_a.png\", n, dtype)\n",
    "y = draw_samples(\"density_b.png\", n, dtype)\n",
    "q0 = x.clone().detach().to(dtype=torchdtype, device=torchdeviceId).requires_grad_(True)\n",
    "y = y.clone().detach().to(dtype=torchdtype, device=torchdeviceId)"
   ]
  },
  {
   "cell_type": "markdown",
   "id": "44235aeb",
   "metadata": {},
   "source": [
    "### Testing set"
   ]
  },
  {
   "cell_type": "code",
   "execution_count": null,
   "id": "15365b96",
   "metadata": {},
   "outputs": [],
   "source": [
    "m = 2000\n",
    "x0 = draw_samples(\"density_a.png\", m, dtype)\n",
    "x1 = draw_samples(\"density_b.png\", m, dtype)\n",
    "x0.requires_grad = True"
   ]
  },
  {
   "cell_type": "markdown",
   "id": "26f5a120",
   "metadata": {},
   "source": [
    "### Hilbert space"
   ]
  },
  {
   "cell_type": "code",
   "execution_count": null,
   "id": "91010890",
   "metadata": {},
   "outputs": [],
   "source": [
    "sigma = torch.tensor([0.175], dtype=torchdtype, device=torchdeviceId)\n",
    "Kv = GaussKernel(sigma=sigma)   "
   ]
  },
  {
   "cell_type": "markdown",
   "id": "d2a0572f",
   "metadata": {},
   "source": [
    "### Regularization and discretization"
   ]
  },
  {
   "cell_type": "code",
   "execution_count": null,
   "id": "995b0957",
   "metadata": {},
   "outputs": [],
   "source": [
    "nt = 16\n",
    "lamb = 1e-8 "
   ]
  },
  {
   "cell_type": "markdown",
   "id": "10640a81",
   "metadata": {},
   "source": [
    "## Run"
   ]
  },
  {
   "cell_type": "markdown",
   "id": "dfa2e653",
   "metadata": {},
   "source": [
    "### Loss"
   ]
  },
  {
   "cell_type": "code",
   "execution_count": null,
   "id": "bacfa85b",
   "metadata": {},
   "outputs": [],
   "source": [
    "#Title for the saved figures\n",
    "title = 'SD_1e-3'\n",
    "\n",
    "#GeomLoss\n",
    "S = SamplesLoss(\"sinkhorn\", p=2, blur=1e-2)\n",
    "# S = SamplesLoss(\"sinkhorn\", p=2, blur=1e-2, debias=False)\n",
    "# S = SamplesLoss(\"gaussian\", blur=1e-1)"
   ]
  },
  {
   "cell_type": "markdown",
   "id": "8136ad45",
   "metadata": {},
   "source": [
    "### Geodesic shooting"
   ]
  },
  {
   "cell_type": "code",
   "execution_count": null,
   "id": "82bbd4cc",
   "metadata": {},
   "outputs": [],
   "source": [
    "title1 = title + \"_gs\"\n",
    "lr_gs = 0.7\n",
    "max_it_gs = 20\n",
    "dataloss = lambda q : S(q,y)\n",
    "loss = LDDMMloss(Kv, dataloss,gamma=2*lamb)"
   ]
  },
  {
   "cell_type": "code",
   "execution_count": null,
   "id": "6d78f2e0",
   "metadata": {},
   "outputs": [],
   "source": [
    "p0 = torch.zeros(q0.shape, dtype=torchdtype, device=torchdeviceId, requires_grad=True)\n",
    "history = Optimize(loss,p0,q0,lr_gs,max_it_gs)"
   ]
  },
  {
   "cell_type": "code",
   "execution_count": null,
   "id": "b768a693",
   "metadata": {},
   "outputs": [],
   "source": [
    "listxqp = Flow(x0, p0, q0, Kv, nt=nt)\n",
    "listx = [listxqp[t][0] for t in range(nt+1)]\n",
    "\n",
    "ShowCase(listx,x1,title1)"
   ]
  },
  {
   "cell_type": "markdown",
   "id": "84143c09",
   "metadata": {},
   "source": [
    "### Gradient descent"
   ]
  },
  {
   "cell_type": "code",
   "execution_count": null,
   "id": "2a965257",
   "metadata": {},
   "outputs": [],
   "source": [
    "title2 = title + \"_gd\"\n",
    "lr_gd=0.6\n",
    "max_it_gd=200"
   ]
  },
  {
   "cell_type": "code",
   "execution_count": null,
   "id": "e92dafef",
   "metadata": {},
   "outputs": [],
   "source": [
    "a, z, history = learn_diffeo(S,x,y,lamb,sigma,nt,lr_gd,max_it_gd)"
   ]
  },
  {
   "cell_type": "code",
   "execution_count": null,
   "id": "282b1911",
   "metadata": {},
   "outputs": [],
   "source": [
    "z_new = apply_diffeo(x0,x1,a,z,sigma,title2)"
   ]
  }
 ],
 "metadata": {
  "kernelspec": {
   "display_name": "Python 3 (ipykernel)",
   "language": "python",
   "name": "python3"
  },
  "language_info": {
   "codemirror_mode": {
    "name": "ipython",
    "version": 3
   },
   "file_extension": ".py",
   "mimetype": "text/x-python",
   "name": "python",
   "nbconvert_exporter": "python",
   "pygments_lexer": "ipython3",
   "version": "3.8.12"
  }
 },
 "nbformat": 4,
 "nbformat_minor": 5
}
